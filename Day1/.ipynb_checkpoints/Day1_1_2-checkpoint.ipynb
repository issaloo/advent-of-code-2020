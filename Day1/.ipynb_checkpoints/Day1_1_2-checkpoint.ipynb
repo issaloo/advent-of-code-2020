{
 "cells": [
  {
   "cell_type": "code",
   "execution_count": 91,
   "metadata": {},
   "outputs": [],
   "source": [
    "import numpy as np\n",
    "import time\n",
    "#Load Data\n",
    "with open('Day1.txt') as f:\n",
    "    num_list = f.read().splitlines()"
   ]
  },
  {
   "cell_type": "code",
   "execution_count": 94,
   "metadata": {},
   "outputs": [
    {
     "name": "stdout",
     "output_type": "stream",
     "text": [
      "0.002991199493408203\n"
     ]
    }
   ],
   "source": [
    "start = time.time()\n",
    "\n",
    "#Convert String Numbers to Integer Numbers\n",
    "num_list = [int(i) for i in str_list]\n",
    "num_array = np.array(num_list)\n",
    "\n",
    "#Get length of array\n",
    "num_array_len = num_array.shape[0]\n",
    "\n",
    "#Create a 2-D repeating Array [[1,2,3,4],[1,2,3,4]] then add [1,2,3,4]\n",
    "num_array2 = num_array + np.tile(num_array,(num_array_len,1)).T\n",
    "\n",
    "#Get Numbers that add up to 2020, this will be x,y coordinates\n",
    "addUps = [tup for tup in np.argwhere(num_array2==2020).tolist() if tup[0] != tup[1]]\n",
    "\n",
    "np.prod(num_array[addUps[0]])\n",
    "\n",
    "end = time.time()\n",
    "print(end-start)"
   ]
  },
  {
   "cell_type": "code",
   "execution_count": 113,
   "metadata": {},
   "outputs": [
    {
     "name": "stdout",
     "output_type": "stream",
     "text": [
      "1.3994309902191162\n"
     ]
    }
   ],
   "source": [
    "from itertools import combinations\n",
    "\n",
    "start = time.time()\n",
    "\n",
    "num_array3 = np.array([*combinations(num_list,3)])\n",
    "np.prod(num_array3[np.where(num_array3.sum(1)==2020),:])\n",
    "\n",
    "end = time.time()\n",
    "print(end-start)"
   ]
  }
 ],
 "metadata": {
  "kernelspec": {
   "display_name": "Python 3",
   "language": "python",
   "name": "python3"
  },
  "language_info": {
   "codemirror_mode": {
    "name": "ipython",
    "version": 3
   },
   "file_extension": ".py",
   "mimetype": "text/x-python",
   "name": "python",
   "nbconvert_exporter": "python",
   "pygments_lexer": "ipython3",
   "version": "3.7.4"
  }
 },
 "nbformat": 4,
 "nbformat_minor": 2
}
